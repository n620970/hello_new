{
 "cells": [
  {
   "cell_type": "code",
   "execution_count": 30,
   "metadata": {},
   "outputs": [
    {
     "name": "stdout",
     "output_type": "stream",
     "text": [
      "1\n",
      "2\n",
      "3\n",
      "4\n",
      "5\n",
      "6\n",
      "My id is: (台灣)123\n"
     ]
    }
   ],
   "source": [
    "# def sayInput(input):\n",
    "#     print(input)\n",
    "# attr='My name is Hong'\n",
    "# sayInput(attr)\n",
    "class twIdCard():\n",
    "    def __init__(self,id):\n",
    "        print(填)\n",
    "        self.id=id\n",
    "\n",
    "    def returnMyid(self):\n",
    "        print(填)\n",
    "        return \"(台灣)\"+str(self.id)\n",
    "\n",
    "\n",
    "class people():\n",
    "    def __init__(self,nameInput,sexInput,ageInput,id):#建構子or constructor\n",
    "        print(填)\n",
    "        self.name=nameInput\n",
    "        self.sex=sexInput\n",
    "        self.age=ageInput\n",
    "        self.idCard=twIdCard(id)\n",
    "        \n",
    "\n",
    "    def sayMyInfo(self):\n",
    "        print(\"My name is:\",self.name,\",My sex is:\",self.sex,\",My age is:\",self.age)\n",
    "    \n",
    "    def sayMyId(self):\n",
    "        print(填)\n",
    "        c=self.idCard.returnMyid()\n",
    "        print(填)\n",
    "        print(\"My id is:\",c)\n",
    "\n",
    "print(填)\n",
    "a=people('Jane','woman','27','123')\n",
    "a.sayMyId()\n",
    "\n",
    "# peo1=people(\"Hong\",'Man',\"27\")\n",
    "# peo2=people(\"TeaTea\",'Women',18)\n",
    "\n",
    "# name = peo1.sayMyInfo()\n",
    "# print(name)\n",
    "\n",
    "\n",
    "# id=twIdCard('R124402654')\n",
    "# id.returnMyid()\n",
    "# c=id.returnMyid()\n",
    "# print(c)\n",
    "\n",
    "\n",
    "# def add(a,b):\n",
    "#     return(a+b)\n",
    "# c=add(1,2)\n",
    "# print(c)\n",
    "#(台灣)R124402654"
   ]
  },
  {
   "cell_type": "code",
   "execution_count": 25,
   "metadata": {},
   "outputs": [
    {
     "name": "stdout",
     "output_type": "stream",
     "text": [
      "<function add at 0x000001BE84FA57E0>\n"
     ]
    }
   ],
   "source": [
    "def add():\n",
    "    print('我被呼叫了')\n",
    "    return \"aa\"\n",
    "\n",
    "\n",
    "var1=add\n",
    "print(var1)"
   ]
  },
  {
   "cell_type": "code",
   "execution_count": 21,
   "metadata": {},
   "outputs": [
    {
     "name": "stdout",
     "output_type": "stream",
     "text": [
      "(台灣)R124402654\n"
     ]
    }
   ],
   "source": [
    "print('(台灣)R124402654')"
   ]
  }
 ],
 "metadata": {
  "interpreter": {
   "hash": "24cd4b94a15dcec59ac3831b658c494f5c2cc369e24552b298534770b5204225"
  },
  "kernelspec": {
   "display_name": "Python 3.10.4 64-bit",
   "language": "python",
   "name": "python3"
  },
  "language_info": {
   "codemirror_mode": {
    "name": "ipython",
    "version": 3
   },
   "file_extension": ".py",
   "mimetype": "text/x-python",
   "name": "python",
   "nbconvert_exporter": "python",
   "pygments_lexer": "ipython3",
   "version": "3.10.4"
  },
  "orig_nbformat": 4
 },
 "nbformat": 4,
 "nbformat_minor": 2
}
